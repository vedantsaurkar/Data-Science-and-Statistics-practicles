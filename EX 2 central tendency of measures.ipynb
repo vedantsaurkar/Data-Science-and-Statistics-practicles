{
 "cells": [
  {
   "cell_type": "code",
   "execution_count": 7,
   "id": "f5f8d7e8",
   "metadata": {},
   "outputs": [],
   "source": [
    "# Name: vedant saurkar\n",
    "# Roll No: 55\n",
    "# Section : C\n",
    "# subject: et1\n",
    "# date:25/07/2025"
   ]
  },
  {
   "cell_type": "code",
   "execution_count": 8,
   "id": "6e55d35c",
   "metadata": {},
   "outputs": [],
   "source": [
    "age=[20,21,22,21,20,22,21,21,22,22,20,21,21,21,20,22,20,22,21,20,21]"
   ]
  },
  {
   "cell_type": "code",
   "execution_count": 9,
   "id": "7fff6485",
   "metadata": {},
   "outputs": [
    {
     "data": {
      "text/plain": [
       "[20,\n",
       " 21,\n",
       " 22,\n",
       " 21,\n",
       " 20,\n",
       " 22,\n",
       " 21,\n",
       " 21,\n",
       " 22,\n",
       " 22,\n",
       " 20,\n",
       " 21,\n",
       " 21,\n",
       " 21,\n",
       " 20,\n",
       " 22,\n",
       " 20,\n",
       " 22,\n",
       " 21,\n",
       " 20,\n",
       " 21]"
      ]
     },
     "execution_count": 9,
     "metadata": {},
     "output_type": "execute_result"
    }
   ],
   "source": [
    "age"
   ]
  },
  {
   "cell_type": "code",
   "execution_count": 10,
   "id": "891b1795",
   "metadata": {},
   "outputs": [
    {
     "name": "stdout",
     "output_type": "stream",
     "text": [
      "[20, 21, 22, 21, 20, 22, 21, 21, 22, 22, 20, 21, 21, 21, 20, 22, 20, 22, 21, 20, 21]\n"
     ]
    }
   ],
   "source": [
    "print(age)"
   ]
  },
  {
   "cell_type": "code",
   "execution_count": 11,
   "id": "278bcf68",
   "metadata": {},
   "outputs": [],
   "source": [
    "import statistics as st"
   ]
  },
  {
   "cell_type": "code",
   "execution_count": 13,
   "id": "56b3a141",
   "metadata": {},
   "outputs": [],
   "source": [
    "a=st.mean(age)"
   ]
  },
  {
   "cell_type": "code",
   "execution_count": 14,
   "id": "3aa79897",
   "metadata": {},
   "outputs": [
    {
     "data": {
      "text/plain": [
       "21"
      ]
     },
     "execution_count": 14,
     "metadata": {},
     "output_type": "execute_result"
    }
   ],
   "source": [
    "a"
   ]
  },
  {
   "cell_type": "code",
   "execution_count": 15,
   "id": "23570684",
   "metadata": {},
   "outputs": [],
   "source": [
    "b=st.median(age)"
   ]
  },
  {
   "cell_type": "code",
   "execution_count": 16,
   "id": "6e7bb2fd",
   "metadata": {},
   "outputs": [
    {
     "data": {
      "text/plain": [
       "21"
      ]
     },
     "execution_count": 16,
     "metadata": {},
     "output_type": "execute_result"
    }
   ],
   "source": [
    "b"
   ]
  },
  {
   "cell_type": "code",
   "execution_count": 17,
   "id": "1f8264a4",
   "metadata": {},
   "outputs": [],
   "source": [
    "import numpy as np\n",
    "x=np.array([1,2,3,4,5,6,7,2,1,4,2,2,6,8,11])"
   ]
  },
  {
   "cell_type": "code",
   "execution_count": 18,
   "id": "4ba776fc",
   "metadata": {},
   "outputs": [
    {
     "data": {
      "text/plain": [
       "array([ 1,  2,  3,  4,  5,  6,  7,  2,  1,  4,  2,  2,  6,  8, 11])"
      ]
     },
     "execution_count": 18,
     "metadata": {},
     "output_type": "execute_result"
    }
   ],
   "source": [
    "x"
   ]
  },
  {
   "cell_type": "code",
   "execution_count": 19,
   "id": "1e6c8968",
   "metadata": {},
   "outputs": [
    {
     "name": "stdout",
     "output_type": "stream",
     "text": [
      "4.266666666666667\n"
     ]
    }
   ],
   "source": [
    "print(np.mean(x))"
   ]
  },
  {
   "cell_type": "code",
   "execution_count": 20,
   "id": "87b50a11",
   "metadata": {},
   "outputs": [
    {
     "name": "stdout",
     "output_type": "stream",
     "text": [
      "4.0\n"
     ]
    }
   ],
   "source": [
    "print(np.median(x))"
   ]
  },
  {
   "cell_type": "code",
   "execution_count": 21,
   "id": "2454b979",
   "metadata": {},
   "outputs": [],
   "source": [
    "from scipy import stats"
   ]
  },
  {
   "cell_type": "code",
   "execution_count": 22,
   "id": "8eccea71",
   "metadata": {},
   "outputs": [
    {
     "name": "stdout",
     "output_type": "stream",
     "text": [
      "ModeResult(mode=array([2]), count=array([4]))\n"
     ]
    }
   ],
   "source": [
    "print(stats.mode(x))"
   ]
  },
  {
   "cell_type": "code",
   "execution_count": 23,
   "id": "f9bc1e7b",
   "metadata": {},
   "outputs": [
    {
     "name": "stdout",
     "output_type": "stream",
     "text": [
      "2.792052212182923\n"
     ]
    }
   ],
   "source": [
    "print(np.std(x))"
   ]
  },
  {
   "cell_type": "code",
   "execution_count": 24,
   "id": "dc9ff244",
   "metadata": {},
   "outputs": [
    {
     "name": "stdout",
     "output_type": "stream",
     "text": [
      "7.795555555555556\n"
     ]
    }
   ],
   "source": [
    "print(np.var(x))"
   ]
  },
  {
   "cell_type": "code",
   "execution_count": null,
   "id": "ea2d63a4",
   "metadata": {},
   "outputs": [],
   "source": []
  }
 ],
 "metadata": {
  "kernelspec": {
   "display_name": "Python 3 (ipykernel)",
   "language": "python",
   "name": "python3"
  },
  "language_info": {
   "codemirror_mode": {
    "name": "ipython",
    "version": 3
   },
   "file_extension": ".py",
   "mimetype": "text/x-python",
   "name": "python",
   "nbconvert_exporter": "python",
   "pygments_lexer": "ipython3",
   "version": "3.9.7"
  }
 },
 "nbformat": 4,
 "nbformat_minor": 5
}
