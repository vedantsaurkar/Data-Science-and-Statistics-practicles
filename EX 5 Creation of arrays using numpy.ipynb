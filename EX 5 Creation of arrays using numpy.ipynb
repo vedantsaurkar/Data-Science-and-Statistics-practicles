{
 "cells": [
  {
   "cell_type": "code",
   "execution_count": 1,
   "id": "eb4f5eb1",
   "metadata": {},
   "outputs": [],
   "source": [
    "#EXPERIMENT 5"
   ]
  },
  {
   "cell_type": "code",
   "execution_count": 2,
   "id": "9bdfbab9",
   "metadata": {},
   "outputs": [],
   "source": [
    "#AIM : Creating dimentional arrays"
   ]
  },
  {
   "cell_type": "code",
   "execution_count": 5,
   "id": "f090ab6b",
   "metadata": {},
   "outputs": [],
   "source": [
    "#name : Vedant Saurkar\n",
    "#Roll no : 55\n",
    "#Sec : CSE-DS\n",
    "#Subject : ET-1"
   ]
  },
  {
   "cell_type": "code",
   "execution_count": 6,
   "id": "0604e127",
   "metadata": {},
   "outputs": [],
   "source": [
    "import numpy as np"
   ]
  },
  {
   "cell_type": "code",
   "execution_count": 7,
   "id": "c795228f",
   "metadata": {},
   "outputs": [],
   "source": [
    "#creating 1D array . (square bracket in round = array)(square bracket=tuple)\n",
    "a1=np.array([10,20,30,40])"
   ]
  },
  {
   "cell_type": "code",
   "execution_count": 8,
   "id": "575e1bac",
   "metadata": {},
   "outputs": [
    {
     "data": {
      "text/plain": [
       "array([10, 20, 30, 40])"
      ]
     },
     "execution_count": 8,
     "metadata": {},
     "output_type": "execute_result"
    }
   ],
   "source": [
    "a1"
   ]
  },
  {
   "cell_type": "code",
   "execution_count": 10,
   "id": "4b72e48d",
   "metadata": {},
   "outputs": [],
   "source": [
    "#creating 2D array\n",
    "a2 = np.array([[11,30,20,40],[34,89,47,34]])"
   ]
  },
  {
   "cell_type": "code",
   "execution_count": 11,
   "id": "69e18051",
   "metadata": {},
   "outputs": [
    {
     "data": {
      "text/plain": [
       "array([[11, 30, 20, 40],\n",
       "       [34, 89, 47, 34]])"
      ]
     },
     "execution_count": 11,
     "metadata": {},
     "output_type": "execute_result"
    }
   ],
   "source": [
    "a2"
   ]
  },
  {
   "cell_type": "code",
   "execution_count": 15,
   "id": "66b527d8",
   "metadata": {},
   "outputs": [
    {
     "name": "stdout",
     "output_type": "stream",
     "text": [
      "[[11 23]\n",
      " [33 45]\n",
      " [67 78]]\n"
     ]
    }
   ],
   "source": [
    "#creating 2D array using matrix\n",
    "a3=np.matrix('11,23;33,45;67,78')\n",
    "print(a3)"
   ]
  },
  {
   "cell_type": "code",
   "execution_count": 16,
   "id": "4644de0b",
   "metadata": {},
   "outputs": [
    {
     "name": "stdout",
     "output_type": "stream",
     "text": [
      "[23 22 22 22 23 21 23 21 21 20 20 20 23 22 20 20 23 23 20 20 20 20 23 20\n",
      " 21]\n"
     ]
    }
   ],
   "source": [
    "# Create array of 25 random integers betweeen 20 and 23 (inclusive)\n",
    "arr = np.random.randint(20, 24, size=25)\n",
    "print(arr)"
   ]
  },
  {
   "cell_type": "code",
   "execution_count": null,
   "id": "12b17d06",
   "metadata": {},
   "outputs": [],
   "source": []
  }
 ],
 "metadata": {
  "kernelspec": {
   "display_name": "Python 3 (ipykernel)",
   "language": "python",
   "name": "python3"
  },
  "language_info": {
   "codemirror_mode": {
    "name": "ipython",
    "version": 3
   },
   "file_extension": ".py",
   "mimetype": "text/x-python",
   "name": "python",
   "nbconvert_exporter": "python",
   "pygments_lexer": "ipython3",
   "version": "3.9.7"
  }
 },
 "nbformat": 4,
 "nbformat_minor": 5
}
